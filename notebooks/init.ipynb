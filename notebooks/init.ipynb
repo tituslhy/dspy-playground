{
 "cells": [
  {
   "cell_type": "code",
   "execution_count": 1,
   "id": "dc91ad4f",
   "metadata": {},
   "outputs": [],
   "source": [
    "%load_ext autoreload\n",
    "%autoreload 2"
   ]
  },
  {
   "cell_type": "code",
   "execution_count": 2,
   "id": "8717141a",
   "metadata": {},
   "outputs": [],
   "source": [
    "import dspy\n",
    "\n",
    "lm = dspy.LM(\"ollama_chat/gpt-oss:20b\", api_base=\"http://localhost:11434\", api_key=\"fake\")\n",
    "dspy.configure(lm=lm)"
   ]
  },
  {
   "cell_type": "markdown",
   "id": "cbae7516",
   "metadata": {},
   "source": [
    "To invoke the LLM"
   ]
  },
  {
   "cell_type": "code",
   "execution_count": 3,
   "id": "1fb49a6b",
   "metadata": {},
   "outputs": [
    {
     "data": {
      "text/plain": [
       "[\"There are **3** 'r's in the word *strawberry*.\"]"
      ]
     },
     "execution_count": 3,
     "metadata": {},
     "output_type": "execute_result"
    }
   ],
   "source": [
    "lm(messages=[{\"role\": \"user\", \"content\": \"Hi! How many 'r's are there in strawberry?\"}])  "
   ]
  },
  {
   "cell_type": "markdown",
   "id": "b5bbcfcb",
   "metadata": {},
   "source": [
    "# 1. Inline signatures\n",
    "\n",
    "Declare signatures inline using strings and arrows!"
   ]
  },
  {
   "cell_type": "markdown",
   "id": "c4231db3",
   "metadata": {},
   "source": [
    "## Chain Of Thought\n",
    "GPT-oss has a 128k context window! Let's make it summarize some documents!"
   ]
  },
  {
   "cell_type": "code",
   "execution_count": 5,
   "id": "1780c3c4",
   "metadata": {},
   "outputs": [],
   "source": [
    "import os\n",
    "\n",
    "if not os.path.exists(\"../docs\"):\n",
    "    os.makedirs(\"../docs\")"
   ]
  },
  {
   "cell_type": "code",
   "execution_count": 6,
   "id": "b2b65dcc",
   "metadata": {},
   "outputs": [
    {
     "name": "stdout",
     "output_type": "stream",
     "text": [
      "--2025-08-08 21:52:57--  https://arxiv.org/pdf/2505.20286\n",
      "Resolving arxiv.org (arxiv.org)... 151.101.3.42, 151.101.195.42, 151.101.131.42, ...\n",
      "Connecting to arxiv.org (arxiv.org)|151.101.3.42|:443... connected.\n",
      "HTTP request sent, awaiting response... 200 OK\n",
      "Length: 1113373 (1.1M) [application/pdf]\n",
      "Saving to: ‘../docs/alita_paper.pdf’\n",
      "\n",
      "../docs/alita_paper 100%[===================>]   1.06M  --.-KB/s    in 0.04s   \n",
      "\n",
      "2025-08-08 21:52:57 (24.0 MB/s) - ‘../docs/alita_paper.pdf’ saved [1113373/1113373]\n",
      "\n"
     ]
    }
   ],
   "source": [
    "!wget https://arxiv.org/pdf/2505.20286 -O \"../docs/alita_paper.pdf\""
   ]
  },
  {
   "cell_type": "code",
   "execution_count": 7,
   "id": "f84ea038",
   "metadata": {},
   "outputs": [],
   "source": [
    "from llama_index.core import SimpleDirectoryReader\n",
    "\n",
    "docs = SimpleDirectoryReader(\"../docs\").load_data()"
   ]
  },
  {
   "cell_type": "code",
   "execution_count": 16,
   "id": "9981cc35",
   "metadata": {},
   "outputs": [
    {
     "data": {
      "text/markdown": [
       "Doc ID: ae9fbb15-e106-4637-9386-3c49099db9b3\n",
       "Text: arXiv:2505.20286v1  [cs.AI]  26 May 2025 ALITA : G ENERALIST\n",
       "AGENT ENABLING SCALABLE AGENTIC REASONING WITH MINIMAL PREDEFINITION\n",
       "AND MAXIMAL SELF -EVOLUTION Jiahao Qiu∗1, Xuan Qi∗2, Tongcheng\n",
       "Zhang∗3, Xinzhe Juan3,4, Jiacheng Guo1, Yifu Lu1, Yimin Wang3,4, Zixin\n",
       "Yao1, Qihan Ren3, Xun Jiang5, Xing Zhou5, Dongrui Liu3, Ling Yang1,\n",
       "Yue Wu1, Kaixua..."
      ],
      "text/plain": [
       "<IPython.core.display.Markdown object>"
      ]
     },
     "metadata": {},
     "output_type": "display_data"
    }
   ],
   "source": [
    "from IPython.display import display, Markdown\n",
    "display(Markdown(str(docs[0])))"
   ]
  },
  {
   "cell_type": "code",
   "execution_count": 17,
   "id": "d50f5219",
   "metadata": {},
   "outputs": [],
   "source": [
    "document = \"\"\n",
    "for doc in docs:\n",
    "    document += str(doc)"
   ]
  },
  {
   "cell_type": "code",
   "execution_count": 20,
   "id": "05e89b4a",
   "metadata": {},
   "outputs": [],
   "source": [
    "summarize = dspy.ChainOfThought('document -> summary')\n",
    "response = summarize(document = document)"
   ]
  },
  {
   "cell_type": "code",
   "execution_count": 21,
   "id": "e0a6e435",
   "metadata": {},
   "outputs": [
    {
     "data": {
      "text/markdown": [
       "ALITA is a lightweight generalist agent that achieves scalable, autonomous reasoning by minimizing predefined tools and maximizing self‑evolution. It employs a concise toolkit—MCP Brainstorming, ScriptGeneratingTool, and CodeRunningTool—to detect functional gaps, generate scripts, and execute code in isolated environments. Evaluated on the GAIA benchmark, ALITA outperforms more complex agents, attaining 75.15 % pass@1 and 87.27 % pass@3, and its generated MCPs further boost performance across difficulty levels. The study demonstrates that a minimal, self‑evolving design can rival or surpass heavily engineered systems, offering a promising direction for future autonomous agents."
      ],
      "text/plain": [
       "<IPython.core.display.Markdown object>"
      ]
     },
     "metadata": {},
     "output_type": "display_data"
    }
   ],
   "source": [
    "display(Markdown(response.summary))"
   ]
  },
  {
   "cell_type": "code",
   "execution_count": 23,
   "id": "b7681a37",
   "metadata": {},
   "outputs": [
    {
     "data": {
      "text/markdown": [
       "The provided document consists of multiple excerpts from a research paper titled “ALITA: GENERALIST AGENT ENABLING SCALABLE AGENTIC REASONING WITH MINIMAL PREDEFINITION AND MAXIMAL SELF‑EVOLUTION.” I parsed each excerpt to identify the main sections: introduction, methods, tool usage, experimental results, comparisons with other agents, and a brief case study. Key themes emerged: ALITA is a generalist agent that relies on a minimal set of powerful tools (e.g., MCP Brainstorming, ScriptGeneratingTool, CodeRunningTool) and emphasizes self‑evolution rather than extensive pre‑design. The agent was evaluated on the GAIA benchmark, achieving top performance (e.g., 75.15% pass@1, 87.27% pass@3) and outperforming more complex systems. Additional experiments showed that reusing ALITA‑generated MCPs improves performance across difficulty levels. The references and case study sections provide context and demonstrate practical applicability. Based on these observations, I crafted a concise summary that captures the motivation, design philosophy, methodological innovations, empirical results, and significance of the work."
      ],
      "text/plain": [
       "<IPython.core.display.Markdown object>"
      ]
     },
     "metadata": {},
     "output_type": "display_data"
    }
   ],
   "source": [
    "display(Markdown(response.reasoning))"
   ]
  },
  {
   "cell_type": "markdown",
   "id": "aee6aa49",
   "metadata": {},
   "source": [
    "## DSPy predict\n",
    "\n",
    "Adding an instruction to the Signature helps us to couch the LLM's reply.\n",
    "\n",
    "> A one shot one document read example"
   ]
  },
  {
   "cell_type": "code",
   "execution_count": null,
   "id": "1ac9feec",
   "metadata": {},
   "outputs": [],
   "source": [
    "oneshot = dspy.Predict(\n",
    "    dspy.Signature(\n",
    "        'document: str, question: str -> answer: str',\n",
    "        instructions='Only use the document to answer the question and nothing else.'\n",
    "    )\n",
    ")\n",
    "\n",
    "question = 'How does ALITA generate its own MCP tools to achieve autonomous reasoning?'\n",
    "\n",
    "response = oneshot(question=question, document=document)"
   ]
  },
  {
   "cell_type": "code",
   "execution_count": 25,
   "id": "8362814b",
   "metadata": {},
   "outputs": [
    {
     "data": {
      "text/markdown": [
       "ALITA’s autonomous reasoning is enabled by a self‑evolving “MCP” (Minimal‑Complexity‑Plan) generation process that is driven by its manager agent.  \n",
       "1. **MCP Brainstorming** – The manager first runs the MCP Brainstorming tool, which scans the current task and the agent’s internal state to detect *functional gaps* (missing capabilities that are needed to progress).  \n",
       "2. **Tool generation** – Once a gap is identified, the manager uses the same MCP Brainstorming logic to *generate* a new MCP. This new MCP is a concise, purpose‑specific tool (e.g., a ScriptGeneratingTool or a CodeRunningTool) that can be invoked immediately.  \n",
       "3. **Minimal predefinition** – ALITA starts with only a handful of core, powerful tools. All other tools are produced on‑the‑fly by the manager, so the system does not rely on a large, hand‑crafted toolkit.  \n",
       "4. **Self‑evolution** – After a new MCP is created, it is added to the agent’s repertoire and can be reused or refined in future tasks, allowing the agent to evolve its own toolset autonomously.\n",
       "\n",
       "Thus, ALITA generates its own MCP tools by using the MCP Brainstorming component to detect missing functionality and automatically produce new, minimal‑complexity tools that extend its reasoning capabilities."
      ],
      "text/plain": [
       "<IPython.core.display.Markdown object>"
      ]
     },
     "metadata": {},
     "output_type": "display_data"
    }
   ],
   "source": [
    "display(Markdown(response.answer))"
   ]
  },
  {
   "cell_type": "markdown",
   "id": "7428d0bd",
   "metadata": {},
   "source": [
    "YES!! No vector database!"
   ]
  },
  {
   "cell_type": "code",
   "execution_count": 34,
   "id": "18cc75e1",
   "metadata": {},
   "outputs": [
    {
     "name": "stdout",
     "output_type": "stream",
     "text": [
      "\n",
      "\n",
      "\n",
      "\n",
      "\u001b[34m[2025-08-08T22:08:07.203340]\u001b[0m\n",
      "\n",
      "\u001b[31mSystem message:\u001b[0m\n",
      "\n",
      "Your input fields are:\n",
      "1. `document` (str): \n",
      "2. `question` (str):\n",
      "Your output fields are:\n",
      "1. `answer` (str):\n",
      "All interactions will be structured in the following way, with the appropriate values filled in.\n",
      "\n",
      "[[ ## document ## ]]\n",
      "{document}\n",
      "\n",
      "[[ ## question ## ]]\n",
      "{question}\n",
      "\n",
      "[[ ## answer ## ]]\n",
      "{answer}\n",
      "\n",
      "[[ ## completed ## ]]\n",
      "In adhering to this structure, your objective is: \n",
      "        Only use the document to answer the question and nothing else.\n",
      "\n",
      "\n",
      "\u001b[31mUser message:\u001b[0m\n",
      "\n",
      "[[ ## document ## ]]\n",
      "Doc ID: ae9fbb15-e106-4637-9386-3c49099db9b3\n",
      "Text: arXiv:2505.20286v1  [cs.AI]  26 May 2025 ALITA : G ENERALIST\n",
      "AGENT ENABLING SCALABLE AGENTIC REASONING WITH MINIMAL PREDEFINITION\n",
      "AND MAXIMAL SELF -EVOLUTION Jiahao Qiu∗1, Xuan Qi∗2, Tongcheng\n",
      "Zhang∗3, Xinzhe Juan3,4, Jiacheng Guo1, Yifu Lu1, Yimin Wang3,4, Zixin\n",
      "Yao1, Qihan Ren3, Xun Jiang5, Xing Zhou5, Dongrui Liu3, Ling Yang1,\n",
      "Yue Wu1, Kaixua...Doc ID: f48c48de-a907-4ed9-bf14-ee8b359355e5\n",
      "Text: 1 Introduction \"Simplicity is the ultimate sophistication.\" —\n",
      "Leonardo da Vinci Large language models (LLMs) have rapidly evolved\n",
      "from merely generating text to autonomous agents capable of\n",
      "independently planning and executing complex tasks on behalf of users\n",
      "with limited human oversight [ 2]. These capabilities have enabled a\n",
      "wide range of appl...Doc ID: 7541dafa-abc0-4887-9ea5-b4341e635eaa\n",
      "Text: • We present Alita, a generalist agent that achieves scalable\n",
      "agentic reasoning with a radically simple design. • We empirically\n",
      "demonstrate that Alita, despite using no complex predefined tools and\n",
      "workflows for specific tasks, outperforms many systems with\n",
      "significantly more handcrafted complexity on the GAIA benchmark. We\n",
      "achieve 75.15% pass@...Doc ID: a7d3864d-e183-4bfe-acab-b491e24b40a5\n",
      "Text: 3 Methods We propose Alita, a generalist agent enabling scalable\n",
      "agentic reasoning with minimal predefinition and maximal self-\n",
      "evolution to tackle diverse and complex tasks. Figure 3 illustrates\n",
      "the framework of Alita. In contrast to generalist agents that\n",
      "typically depend on extensive manually-designed tools and workflows\n",
      "[8, 9], the manager ag...Doc ID: 05b96fd1-9b45-4b76-b9fe-4fa71e169968\n",
      "Text: Tool Usage. In contrast to traditional systems that rely on\n",
      "extensive predefined toolkits, the manager agent em- braces Alita’s\n",
      "minimal philosophy by employing concise but powerful toolkits,\n",
      "including MCP Brainstorming, ScriptGeneratingTool and CodeRunningTool.\n",
      "Specifically, MCP Brainstorming detects functional gaps, identi- fies\n",
      "necessary suppl...Doc ID: a42cc558-0c42-43e1-88b3-5f43a59fb8ae\n",
      "Text: of the system. During execution, the environment is explicitly\n",
      "activated prior to invoking the code interpreter, thus ensuring both\n",
      "isolation and reproducibility. In the event of a failure during\n",
      "environment initialization—due to issues such as missing packages,\n",
      "syntax errors in setup scripts, or unavailable dependencies—Alita\n",
      "activates an autom...Doc ID: 85ce3866-eeba-437f-8dcc-9d43e31296d0\n",
      "Text: framework excels in generating comprehensive reports on complex\n",
      "topics and has shown superior performance on benchmarks. 4.2 Results\n",
      "We run three rounds of testing on GAIA and achieved the best\n",
      "performance on the GAIA leaderboard, surpassing other agent systems.\n",
      "Alita with Claude-Sonnet-4 and GPT-4o achieves 75.15% pass@1 and\n",
      "87.27% pass@3 accur...Doc ID: 078d693c-4efb-4819-8772-06fe1965591d\n",
      "Text: 5.1.2 Reuse by Open Deep Research-smolagents We run open Deep\n",
      "Research-smolagents [25] on GAIA with and without Alita-generated MCPs\n",
      "based on GPT-4o. The results are presented in Table 2. From this\n",
      "experiment, we observe that the reuse of Alita-generated MCPs results\n",
      "in better performance compared to the base framework for all\n",
      "difficulty levels....Doc ID: 5250fca9-f733-4cb4-b11c-30cfc0c17ada\n",
      "Text: Model Configuration Level 1 Level 2 Level 3 Total Alita\n",
      "(Claude-3.7-Sonnet, GPT-4o) 81.13% 75.58% 46.15% 72.73% Alita\n",
      "(GPT-4o-mini) 54.72% 44.19% 19.23% 43.64% Table 4: Comparison of\n",
      "performance between Alita(Claude-3.7-Sonnet,GPT-4o) and\n",
      "Alita(GPT-4o-mini). The results are reported at different GAIA levels:\n",
      "Level 1, Level 2, Level 3, and the av...Doc ID: ca7ce3ed-d440-494a-b3a9-12249da0ba66\n",
      "Text: References [1] OpenAI. Introducing deep research. [2] Noam Kolt.\n",
      "Governing ai agents. arXiv preprint arXiv:2501.07913, 2025. [3] Jian\n",
      "Xie, Kai Zhang, Jiangjie Chen, Tinghui Zhu, Renze Lou, Yuandong Tian,\n",
      "Yanghua Xiao, and Yu Su. Travelplanner: A benchmark for real-world\n",
      "planning with language agents. arXiv preprint arXiv:2402.01622, 2024.\n",
      "[4] Ti...Doc ID: 0e7660ee-fe86-46d3-9797-b1bdd33bbe9c\n",
      "Text: [21] Tiantian Gan and Qiyao Sun. Rag-mcp: Mitigating prompt\n",
      "bloat in llm tool selection via retrieval-augmented generation. arXiv\n",
      "preprint arXiv:2505.03275, 2025. [22] Fengfei Sun, Ningke Li, Kailong\n",
      "Wang, and Lorenz Goette. Large language models are overconfident and\n",
      "amplify human bias. 2025. [23] Pan Lu, Hritik Bansal, Tony Xia,\n",
      "Jiacheng Liu, ...Doc ID: ff41caa4-4656-42c1-b2c3-169e4c6be828\n",
      "Text: A Detailed Case Study Case Study: YouTube 360 VR Video Subtitle\n",
      "Extraction Question ID: 0512426f-4d28-49f0-be77-06d05daec096 Question:\n",
      "In the YouTube 360 VR video from March 2018 narrated by the voice\n",
      "actor of Lord of the Rings’ Gollum, what number was mentioned by the\n",
      "narrator directly after dinosaurs were first shown in the video? Our\n",
      "Answer: ...\n",
      "\n",
      "[[ ## question ## ]]\n",
      "How does ALITA generate its own MCP tools to achieve autonomous reasoning?\n",
      "\n",
      "Respond with the corresponding output fields, starting with the field `[[ ## answer ## ]]`, and then ending with the marker for `[[ ## completed ## ]]`.\n",
      "\n",
      "\n",
      "\u001b[31mResponse:\u001b[0m\n",
      "\n",
      "\u001b[32m[[ ## answer ## ]]\n",
      "ALITA’s autonomous reasoning is enabled by a self‑evolving “MCP” (Minimal‑Complexity‑Plan) generation process that is driven by its manager agent.  \n",
      "1. **MCP Brainstorming** – The manager first runs the MCP Brainstorming tool, which scans the current task and the agent’s internal state to detect *functional gaps* (missing capabilities that are needed to progress).  \n",
      "2. **Tool generation** – Once a gap is identified, the manager uses the same MCP Brainstorming logic to *generate* a new MCP. This new MCP is a concise, purpose‑specific tool (e.g., a ScriptGeneratingTool or a CodeRunningTool) that can be invoked immediately.  \n",
      "3. **Minimal predefinition** – ALITA starts with only a handful of core, powerful tools. All other tools are produced on‑the‑fly by the manager, so the system does not rely on a large, hand‑crafted toolkit.  \n",
      "4. **Self‑evolution** – After a new MCP is created, it is added to the agent’s repertoire and can be reused or refined in future tasks, allowing the agent to evolve its own toolset autonomously.\n",
      "\n",
      "Thus, ALITA generates its own MCP tools by using the MCP Brainstorming component to detect missing functionality and automatically produce new, minimal‑complexity tools that extend its reasoning capabilities.\u001b[0m\n",
      "\n",
      "\n",
      "\n",
      "\n",
      "\n"
     ]
    }
   ],
   "source": [
    "dspy.inspect_history()"
   ]
  },
  {
   "cell_type": "markdown",
   "id": "e79e6bf1",
   "metadata": {},
   "source": [
    "# 2. Programmatic Signatures and how they integrate with the broader LLM ecosystem\n",
    "Let's create an agent with a signature declared using a programmed class!"
   ]
  },
  {
   "cell_type": "code",
   "execution_count": null,
   "id": "44bbd443",
   "metadata": {},
   "outputs": [
    {
     "data": {
      "text/plain": [
       "14"
      ]
     },
     "execution_count": 27,
     "metadata": {},
     "output_type": "execute_result"
    }
   ],
   "source": []
  },
  {
   "cell_type": "code",
   "execution_count": null,
   "id": "a3c981af",
   "metadata": {},
   "outputs": [],
   "source": []
  }
 ],
 "metadata": {
  "kernelspec": {
   "display_name": "dspy-playground",
   "language": "python",
   "name": "python3"
  },
  "language_info": {
   "codemirror_mode": {
    "name": "ipython",
    "version": 3
   },
   "file_extension": ".py",
   "mimetype": "text/x-python",
   "name": "python",
   "nbconvert_exporter": "python",
   "pygments_lexer": "ipython3",
   "version": "3.12.5"
  }
 },
 "nbformat": 4,
 "nbformat_minor": 5
}
